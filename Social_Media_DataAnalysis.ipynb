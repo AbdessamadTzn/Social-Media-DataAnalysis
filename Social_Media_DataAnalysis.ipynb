{
 "cells": [
  {
   "cell_type": "markdown",
   "id": "17b5724c-1a5e-4953-9405-bed9d6959f8d",
   "metadata": {},
   "source": [
    "# **Social Media DataAnalysis**\n",
    "## **Coursera Project Network**\n",
    "### **By: Abdessamad Touzani**"
   ]
  },
  {
   "cell_type": "code",
   "execution_count": 6,
   "id": "2570d7d5-af85-4ce1-ae4b-de4028372fe1",
   "metadata": {},
   "outputs": [],
   "source": [
    "import pandas as pd\n",
    "import numpy as np\n",
    "import matplotlib.pyplot as plt\n",
    "import seaborn\n",
    "import random"
   ]
  },
  {
   "cell_type": "markdown",
   "id": "826c551e-4766-4380-a037-13dea16a4a06",
   "metadata": {},
   "source": [
    "## **Generate random data**"
   ]
  },
  {
   "cell_type": "code",
   "execution_count": 7,
   "id": "1872d75d-862e-4418-ac9d-21f067bd589e",
   "metadata": {},
   "outputs": [],
   "source": [
    "Categories = [\"Fashion\", \"Travel\", \"Culture\", \"Fitness\", \"Health\", \"Food\", \"Music\"]"
   ]
  },
  {
   "cell_type": "code",
   "execution_count": 10,
   "id": "e382a8af-f86b-46e5-a69b-3f53dec60184",
   "metadata": {},
   "outputs": [],
   "source": [
    "n=500 #period\n",
    "data = {\n",
    "    'Date': pd.date_range('2023-01-01', periods=n),\n",
    "    'Category': [random.choice(Categories)for _ in range(n)],\n",
    "    'Likes': np.random.randint(0, 1000, size=n)\n",
    "}"
   ]
  },
  {
   "cell_type": "markdown",
   "id": "b01e678f-911c-43e1-a2bd-02d47fb3ce4a",
   "metadata": {},
   "source": [
    "## **Create DataFrame**"
   ]
  },
  {
   "cell_type": "code",
   "execution_count": 16,
   "id": "9d17c9f9-27e5-4aac-a354-e62ecd20a938",
   "metadata": {},
   "outputs": [],
   "source": [
    "df = pd.DataFrame(data)"
   ]
  },
  {
   "cell_type": "markdown",
   "id": "3d8dd252-25e3-4412-bf49-6163a7675e54",
   "metadata": {},
   "source": [
    "###  **DataFrame's head**"
   ]
  },
  {
   "cell_type": "code",
   "execution_count": 18,
   "id": "debc89d5-49cb-43f8-887e-040024cb68cc",
   "metadata": {},
   "outputs": [
    {
     "data": {
      "text/html": [
       "<div>\n",
       "<style scoped>\n",
       "    .dataframe tbody tr th:only-of-type {\n",
       "        vertical-align: middle;\n",
       "    }\n",
       "\n",
       "    .dataframe tbody tr th {\n",
       "        vertical-align: top;\n",
       "    }\n",
       "\n",
       "    .dataframe thead th {\n",
       "        text-align: right;\n",
       "    }\n",
       "</style>\n",
       "<table border=\"1\" class=\"dataframe\">\n",
       "  <thead>\n",
       "    <tr style=\"text-align: right;\">\n",
       "      <th></th>\n",
       "      <th>Date</th>\n",
       "      <th>Category</th>\n",
       "      <th>Likes</th>\n",
       "    </tr>\n",
       "  </thead>\n",
       "  <tbody>\n",
       "    <tr>\n",
       "      <th>0</th>\n",
       "      <td>2023-01-01</td>\n",
       "      <td>Travel</td>\n",
       "      <td>281</td>\n",
       "    </tr>\n",
       "    <tr>\n",
       "      <th>1</th>\n",
       "      <td>2023-01-02</td>\n",
       "      <td>Travel</td>\n",
       "      <td>359</td>\n",
       "    </tr>\n",
       "    <tr>\n",
       "      <th>2</th>\n",
       "      <td>2023-01-03</td>\n",
       "      <td>Music</td>\n",
       "      <td>598</td>\n",
       "    </tr>\n",
       "    <tr>\n",
       "      <th>3</th>\n",
       "      <td>2023-01-04</td>\n",
       "      <td>Fitness</td>\n",
       "      <td>799</td>\n",
       "    </tr>\n",
       "    <tr>\n",
       "      <th>4</th>\n",
       "      <td>2023-01-05</td>\n",
       "      <td>Health</td>\n",
       "      <td>461</td>\n",
       "    </tr>\n",
       "  </tbody>\n",
       "</table>\n",
       "</div>"
      ],
      "text/plain": [
       "        Date Category  Likes\n",
       "0 2023-01-01   Travel    281\n",
       "1 2023-01-02   Travel    359\n",
       "2 2023-01-03    Music    598\n",
       "3 2023-01-04  Fitness    799\n",
       "4 2023-01-05   Health    461"
      ]
     },
     "execution_count": 18,
     "metadata": {},
     "output_type": "execute_result"
    }
   ],
   "source": [
    "df.head()"
   ]
  },
  {
   "cell_type": "markdown",
   "id": "6fb2f8f3-96c6-4219-aee7-18fadc92fcd4",
   "metadata": {},
   "source": [
    "### **DataFrame's information**"
   ]
  },
  {
   "cell_type": "code",
   "execution_count": 19,
   "id": "21859c83-55eb-4673-9ceb-a46c771c4eb5",
   "metadata": {},
   "outputs": [
    {
     "name": "stdout",
     "output_type": "stream",
     "text": [
      "<class 'pandas.core.frame.DataFrame'>\n",
      "RangeIndex: 500 entries, 0 to 499\n",
      "Data columns (total 3 columns):\n",
      " #   Column    Non-Null Count  Dtype         \n",
      "---  ------    --------------  -----         \n",
      " 0   Date      500 non-null    datetime64[ns]\n",
      " 1   Category  500 non-null    object        \n",
      " 2   Likes     500 non-null    int32         \n",
      "dtypes: datetime64[ns](1), int32(1), object(1)\n",
      "memory usage: 9.9+ KB\n"
     ]
    }
   ],
   "source": [
    "df.info()"
   ]
  },
  {
   "cell_type": "markdown",
   "id": "08e50463-ee7d-4eb7-ac0d-26b3efbcaa57",
   "metadata": {},
   "source": [
    "### **DataFrame's description**"
   ]
  },
  {
   "cell_type": "code",
   "execution_count": 20,
   "id": "c6b089a7-90bd-47ae-9450-17532d95e32e",
   "metadata": {},
   "outputs": [
    {
     "data": {
      "text/html": [
       "<div>\n",
       "<style scoped>\n",
       "    .dataframe tbody tr th:only-of-type {\n",
       "        vertical-align: middle;\n",
       "    }\n",
       "\n",
       "    .dataframe tbody tr th {\n",
       "        vertical-align: top;\n",
       "    }\n",
       "\n",
       "    .dataframe thead th {\n",
       "        text-align: right;\n",
       "    }\n",
       "</style>\n",
       "<table border=\"1\" class=\"dataframe\">\n",
       "  <thead>\n",
       "    <tr style=\"text-align: right;\">\n",
       "      <th></th>\n",
       "      <th>Date</th>\n",
       "      <th>Likes</th>\n",
       "    </tr>\n",
       "  </thead>\n",
       "  <tbody>\n",
       "    <tr>\n",
       "      <th>count</th>\n",
       "      <td>500</td>\n",
       "      <td>500.000000</td>\n",
       "    </tr>\n",
       "    <tr>\n",
       "      <th>mean</th>\n",
       "      <td>2023-09-07 12:00:00</td>\n",
       "      <td>502.178000</td>\n",
       "    </tr>\n",
       "    <tr>\n",
       "      <th>min</th>\n",
       "      <td>2023-01-01 00:00:00</td>\n",
       "      <td>2.000000</td>\n",
       "    </tr>\n",
       "    <tr>\n",
       "      <th>25%</th>\n",
       "      <td>2023-05-05 18:00:00</td>\n",
       "      <td>239.000000</td>\n",
       "    </tr>\n",
       "    <tr>\n",
       "      <th>50%</th>\n",
       "      <td>2023-09-07 12:00:00</td>\n",
       "      <td>510.500000</td>\n",
       "    </tr>\n",
       "    <tr>\n",
       "      <th>75%</th>\n",
       "      <td>2024-01-10 06:00:00</td>\n",
       "      <td>758.250000</td>\n",
       "    </tr>\n",
       "    <tr>\n",
       "      <th>max</th>\n",
       "      <td>2024-05-14 00:00:00</td>\n",
       "      <td>999.000000</td>\n",
       "    </tr>\n",
       "    <tr>\n",
       "      <th>std</th>\n",
       "      <td>NaN</td>\n",
       "      <td>296.834573</td>\n",
       "    </tr>\n",
       "  </tbody>\n",
       "</table>\n",
       "</div>"
      ],
      "text/plain": [
       "                      Date       Likes\n",
       "count                  500  500.000000\n",
       "mean   2023-09-07 12:00:00  502.178000\n",
       "min    2023-01-01 00:00:00    2.000000\n",
       "25%    2023-05-05 18:00:00  239.000000\n",
       "50%    2023-09-07 12:00:00  510.500000\n",
       "75%    2024-01-10 06:00:00  758.250000\n",
       "max    2024-05-14 00:00:00  999.000000\n",
       "std                    NaN  296.834573"
      ]
     },
     "execution_count": 20,
     "metadata": {},
     "output_type": "execute_result"
    }
   ],
   "source": [
    "df.describe()"
   ]
  },
  {
   "cell_type": "markdown",
   "id": "a8271daa-a83f-4ccf-ac3c-e5c560caa793",
   "metadata": {},
   "source": [
    "### **Count of each ‘Category’ element**"
   ]
  },
  {
   "cell_type": "code",
   "execution_count": 21,
   "id": "3e3b74cd-1829-4b0b-b690-c2831f668ca3",
   "metadata": {},
   "outputs": [
    {
     "data": {
      "text/plain": [
       "Category\n",
       "Fitness    87\n",
       "Music      77\n",
       "Travel     73\n",
       "Culture    71\n",
       "Health     70\n",
       "Food       62\n",
       "Fashion    60\n",
       "Name: count, dtype: int64"
      ]
     },
     "execution_count": 21,
     "metadata": {},
     "output_type": "execute_result"
    }
   ],
   "source": [
    "df['Category'].value_counts()"
   ]
  },
  {
   "cell_type": "markdown",
   "id": "7efb1772-4c07-420d-91cc-5a9110d1cb59",
   "metadata": {},
   "source": [
    "## **Cleaning Data**"
   ]
  },
  {
   "cell_type": "code",
   "execution_count": null,
   "id": "56592fb6-9c78-417f-ac2a-4d40c45f13f2",
   "metadata": {},
   "outputs": [],
   "source": []
  }
 ],
 "metadata": {
  "kernelspec": {
   "display_name": "Python 3 (ipykernel)",
   "language": "python",
   "name": "python3"
  },
  "language_info": {
   "codemirror_mode": {
    "name": "ipython",
    "version": 3
   },
   "file_extension": ".py",
   "mimetype": "text/x-python",
   "name": "python",
   "nbconvert_exporter": "python",
   "pygments_lexer": "ipython3",
   "version": "3.11.5"
  }
 },
 "nbformat": 4,
 "nbformat_minor": 5
}
