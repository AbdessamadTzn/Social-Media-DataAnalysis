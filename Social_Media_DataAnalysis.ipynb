{
 "cells": [
  {
   "cell_type": "markdown",
   "id": "17b5724c-1a5e-4953-9405-bed9d6959f8d",
   "metadata": {},
   "source": [
    "# **Social Media DataAnalysis**\n",
    "## **Coursera Project Network**\n",
    "### **By: Abdessamad Touzani**"
   ]
  },
  {
   "cell_type": "code",
   "execution_count": 57,
   "id": "2570d7d5-af85-4ce1-ae4b-de4028372fe1",
   "metadata": {},
   "outputs": [],
   "source": [
    "import pandas as pd\n",
    "import numpy as np\n",
    "import matplotlib.pyplot as plt\n",
    "import seaborn\n",
    "import random"
   ]
  },
  {
   "cell_type": "markdown",
   "id": "826c551e-4766-4380-a037-13dea16a4a06",
   "metadata": {},
   "source": [
    "## **Generate random data**"
   ]
  },
  {
   "cell_type": "code",
   "execution_count": 3,
   "id": "1872d75d-862e-4418-ac9d-21f067bd589e",
   "metadata": {},
   "outputs": [],
   "source": [
    "Categories = [\"Fashion\", \"Travel\", \"Culture\", \"Fitness\", \"Health\", \"Food\", \"Music\"]"
   ]
  },
  {
   "cell_type": "code",
   "execution_count": 4,
   "id": "e382a8af-f86b-46e5-a69b-3f53dec60184",
   "metadata": {},
   "outputs": [],
   "source": [
    "n=500 #period\n",
    "data = {\n",
    "    'Date': pd.date_range('2023-01-01', periods=n),\n",
    "    'Category': [random.choice(Categories)for _ in range(n)],\n",
    "    'Likes': np.random.randint(0, 1000, size=n)\n",
    "}"
   ]
  },
  {
   "cell_type": "markdown",
   "id": "b01e678f-911c-43e1-a2bd-02d47fb3ce4a",
   "metadata": {},
   "source": [
    "## **Create DataFrame**"
   ]
  },
  {
   "cell_type": "code",
   "execution_count": 5,
   "id": "9d17c9f9-27e5-4aac-a354-e62ecd20a938",
   "metadata": {},
   "outputs": [],
   "source": [
    "df = pd.DataFrame(data)"
   ]
  },
  {
   "cell_type": "markdown",
   "id": "3d8dd252-25e3-4412-bf49-6163a7675e54",
   "metadata": {},
   "source": [
    "###  **DataFrame's head**"
   ]
  },
  {
   "cell_type": "code",
   "execution_count": 6,
   "id": "debc89d5-49cb-43f8-887e-040024cb68cc",
   "metadata": {},
   "outputs": [
    {
     "data": {
      "text/html": [
       "<div>\n",
       "<style scoped>\n",
       "    .dataframe tbody tr th:only-of-type {\n",
       "        vertical-align: middle;\n",
       "    }\n",
       "\n",
       "    .dataframe tbody tr th {\n",
       "        vertical-align: top;\n",
       "    }\n",
       "\n",
       "    .dataframe thead th {\n",
       "        text-align: right;\n",
       "    }\n",
       "</style>\n",
       "<table border=\"1\" class=\"dataframe\">\n",
       "  <thead>\n",
       "    <tr style=\"text-align: right;\">\n",
       "      <th></th>\n",
       "      <th>Date</th>\n",
       "      <th>Category</th>\n",
       "      <th>Likes</th>\n",
       "    </tr>\n",
       "  </thead>\n",
       "  <tbody>\n",
       "    <tr>\n",
       "      <th>0</th>\n",
       "      <td>2023-01-01</td>\n",
       "      <td>Health</td>\n",
       "      <td>37</td>\n",
       "    </tr>\n",
       "    <tr>\n",
       "      <th>1</th>\n",
       "      <td>2023-01-02</td>\n",
       "      <td>Health</td>\n",
       "      <td>88</td>\n",
       "    </tr>\n",
       "    <tr>\n",
       "      <th>2</th>\n",
       "      <td>2023-01-03</td>\n",
       "      <td>Fitness</td>\n",
       "      <td>377</td>\n",
       "    </tr>\n",
       "    <tr>\n",
       "      <th>3</th>\n",
       "      <td>2023-01-04</td>\n",
       "      <td>Health</td>\n",
       "      <td>402</td>\n",
       "    </tr>\n",
       "    <tr>\n",
       "      <th>4</th>\n",
       "      <td>2023-01-05</td>\n",
       "      <td>Fashion</td>\n",
       "      <td>706</td>\n",
       "    </tr>\n",
       "  </tbody>\n",
       "</table>\n",
       "</div>"
      ],
      "text/plain": [
       "        Date Category  Likes\n",
       "0 2023-01-01   Health     37\n",
       "1 2023-01-02   Health     88\n",
       "2 2023-01-03  Fitness    377\n",
       "3 2023-01-04   Health    402\n",
       "4 2023-01-05  Fashion    706"
      ]
     },
     "execution_count": 6,
     "metadata": {},
     "output_type": "execute_result"
    }
   ],
   "source": [
    "df.head()"
   ]
  },
  {
   "cell_type": "markdown",
   "id": "6fb2f8f3-96c6-4219-aee7-18fadc92fcd4",
   "metadata": {},
   "source": [
    "### **DataFrame's information**"
   ]
  },
  {
   "cell_type": "code",
   "execution_count": 7,
   "id": "21859c83-55eb-4673-9ceb-a46c771c4eb5",
   "metadata": {},
   "outputs": [
    {
     "name": "stdout",
     "output_type": "stream",
     "text": [
      "<class 'pandas.core.frame.DataFrame'>\n",
      "RangeIndex: 500 entries, 0 to 499\n",
      "Data columns (total 3 columns):\n",
      " #   Column    Non-Null Count  Dtype         \n",
      "---  ------    --------------  -----         \n",
      " 0   Date      500 non-null    datetime64[ns]\n",
      " 1   Category  500 non-null    object        \n",
      " 2   Likes     500 non-null    int32         \n",
      "dtypes: datetime64[ns](1), int32(1), object(1)\n",
      "memory usage: 9.9+ KB\n"
     ]
    }
   ],
   "source": [
    "df.info()"
   ]
  },
  {
   "cell_type": "markdown",
   "id": "08e50463-ee7d-4eb7-ac0d-26b3efbcaa57",
   "metadata": {},
   "source": [
    "### **DataFrame's description**"
   ]
  },
  {
   "cell_type": "code",
   "execution_count": 8,
   "id": "c6b089a7-90bd-47ae-9450-17532d95e32e",
   "metadata": {},
   "outputs": [
    {
     "data": {
      "text/html": [
       "<div>\n",
       "<style scoped>\n",
       "    .dataframe tbody tr th:only-of-type {\n",
       "        vertical-align: middle;\n",
       "    }\n",
       "\n",
       "    .dataframe tbody tr th {\n",
       "        vertical-align: top;\n",
       "    }\n",
       "\n",
       "    .dataframe thead th {\n",
       "        text-align: right;\n",
       "    }\n",
       "</style>\n",
       "<table border=\"1\" class=\"dataframe\">\n",
       "  <thead>\n",
       "    <tr style=\"text-align: right;\">\n",
       "      <th></th>\n",
       "      <th>Date</th>\n",
       "      <th>Likes</th>\n",
       "    </tr>\n",
       "  </thead>\n",
       "  <tbody>\n",
       "    <tr>\n",
       "      <th>count</th>\n",
       "      <td>500</td>\n",
       "      <td>500.000000</td>\n",
       "    </tr>\n",
       "    <tr>\n",
       "      <th>mean</th>\n",
       "      <td>2023-09-07 12:00:00</td>\n",
       "      <td>520.690000</td>\n",
       "    </tr>\n",
       "    <tr>\n",
       "      <th>min</th>\n",
       "      <td>2023-01-01 00:00:00</td>\n",
       "      <td>2.000000</td>\n",
       "    </tr>\n",
       "    <tr>\n",
       "      <th>25%</th>\n",
       "      <td>2023-05-05 18:00:00</td>\n",
       "      <td>280.500000</td>\n",
       "    </tr>\n",
       "    <tr>\n",
       "      <th>50%</th>\n",
       "      <td>2023-09-07 12:00:00</td>\n",
       "      <td>538.000000</td>\n",
       "    </tr>\n",
       "    <tr>\n",
       "      <th>75%</th>\n",
       "      <td>2024-01-10 06:00:00</td>\n",
       "      <td>774.000000</td>\n",
       "    </tr>\n",
       "    <tr>\n",
       "      <th>max</th>\n",
       "      <td>2024-05-14 00:00:00</td>\n",
       "      <td>998.000000</td>\n",
       "    </tr>\n",
       "    <tr>\n",
       "      <th>std</th>\n",
       "      <td>NaN</td>\n",
       "      <td>287.401387</td>\n",
       "    </tr>\n",
       "  </tbody>\n",
       "</table>\n",
       "</div>"
      ],
      "text/plain": [
       "                      Date       Likes\n",
       "count                  500  500.000000\n",
       "mean   2023-09-07 12:00:00  520.690000\n",
       "min    2023-01-01 00:00:00    2.000000\n",
       "25%    2023-05-05 18:00:00  280.500000\n",
       "50%    2023-09-07 12:00:00  538.000000\n",
       "75%    2024-01-10 06:00:00  774.000000\n",
       "max    2024-05-14 00:00:00  998.000000\n",
       "std                    NaN  287.401387"
      ]
     },
     "execution_count": 8,
     "metadata": {},
     "output_type": "execute_result"
    }
   ],
   "source": [
    "df.describe()"
   ]
  },
  {
   "cell_type": "markdown",
   "id": "a8271daa-a83f-4ccf-ac3c-e5c560caa793",
   "metadata": {},
   "source": [
    "### **Count of each ‘Category’ element**"
   ]
  },
  {
   "cell_type": "code",
   "execution_count": 9,
   "id": "3e3b74cd-1829-4b0b-b690-c2831f668ca3",
   "metadata": {},
   "outputs": [
    {
     "data": {
      "text/plain": [
       "Category\n",
       "Fitness    76\n",
       "Fashion    76\n",
       "Music      74\n",
       "Health     73\n",
       "Travel     69\n",
       "Food       68\n",
       "Culture    64\n",
       "Name: count, dtype: int64"
      ]
     },
     "execution_count": 9,
     "metadata": {},
     "output_type": "execute_result"
    }
   ],
   "source": [
    "df['Category'].value_counts()"
   ]
  },
  {
   "cell_type": "markdown",
   "id": "7efb1772-4c07-420d-91cc-5a9110d1cb59",
   "metadata": {},
   "source": [
    "## **Cleaning Data**"
   ]
  },
  {
   "cell_type": "code",
   "execution_count": 10,
   "id": "56592fb6-9c78-417f-ac2a-4d40c45f13f2",
   "metadata": {},
   "outputs": [
    {
     "data": {
      "text/html": [
       "<div>\n",
       "<style scoped>\n",
       "    .dataframe tbody tr th:only-of-type {\n",
       "        vertical-align: middle;\n",
       "    }\n",
       "\n",
       "    .dataframe tbody tr th {\n",
       "        vertical-align: top;\n",
       "    }\n",
       "\n",
       "    .dataframe thead th {\n",
       "        text-align: right;\n",
       "    }\n",
       "</style>\n",
       "<table border=\"1\" class=\"dataframe\">\n",
       "  <thead>\n",
       "    <tr style=\"text-align: right;\">\n",
       "      <th></th>\n",
       "      <th>Date</th>\n",
       "      <th>Category</th>\n",
       "      <th>Likes</th>\n",
       "    </tr>\n",
       "  </thead>\n",
       "  <tbody>\n",
       "    <tr>\n",
       "      <th>0</th>\n",
       "      <td>2023-01-01</td>\n",
       "      <td>Health</td>\n",
       "      <td>37</td>\n",
       "    </tr>\n",
       "    <tr>\n",
       "      <th>1</th>\n",
       "      <td>2023-01-02</td>\n",
       "      <td>Health</td>\n",
       "      <td>88</td>\n",
       "    </tr>\n",
       "    <tr>\n",
       "      <th>2</th>\n",
       "      <td>2023-01-03</td>\n",
       "      <td>Fitness</td>\n",
       "      <td>377</td>\n",
       "    </tr>\n",
       "    <tr>\n",
       "      <th>3</th>\n",
       "      <td>2023-01-04</td>\n",
       "      <td>Health</td>\n",
       "      <td>402</td>\n",
       "    </tr>\n",
       "    <tr>\n",
       "      <th>4</th>\n",
       "      <td>2023-01-05</td>\n",
       "      <td>Fashion</td>\n",
       "      <td>706</td>\n",
       "    </tr>\n",
       "    <tr>\n",
       "      <th>...</th>\n",
       "      <td>...</td>\n",
       "      <td>...</td>\n",
       "      <td>...</td>\n",
       "    </tr>\n",
       "    <tr>\n",
       "      <th>495</th>\n",
       "      <td>2024-05-10</td>\n",
       "      <td>Food</td>\n",
       "      <td>201</td>\n",
       "    </tr>\n",
       "    <tr>\n",
       "      <th>496</th>\n",
       "      <td>2024-05-11</td>\n",
       "      <td>Fitness</td>\n",
       "      <td>488</td>\n",
       "    </tr>\n",
       "    <tr>\n",
       "      <th>497</th>\n",
       "      <td>2024-05-12</td>\n",
       "      <td>Fashion</td>\n",
       "      <td>766</td>\n",
       "    </tr>\n",
       "    <tr>\n",
       "      <th>498</th>\n",
       "      <td>2024-05-13</td>\n",
       "      <td>Travel</td>\n",
       "      <td>117</td>\n",
       "    </tr>\n",
       "    <tr>\n",
       "      <th>499</th>\n",
       "      <td>2024-05-14</td>\n",
       "      <td>Culture</td>\n",
       "      <td>200</td>\n",
       "    </tr>\n",
       "  </tbody>\n",
       "</table>\n",
       "<p>500 rows × 3 columns</p>\n",
       "</div>"
      ],
      "text/plain": [
       "          Date Category  Likes\n",
       "0   2023-01-01   Health     37\n",
       "1   2023-01-02   Health     88\n",
       "2   2023-01-03  Fitness    377\n",
       "3   2023-01-04   Health    402\n",
       "4   2023-01-05  Fashion    706\n",
       "..         ...      ...    ...\n",
       "495 2024-05-10     Food    201\n",
       "496 2024-05-11  Fitness    488\n",
       "497 2024-05-12  Fashion    766\n",
       "498 2024-05-13   Travel    117\n",
       "499 2024-05-14  Culture    200\n",
       "\n",
       "[500 rows x 3 columns]"
      ]
     },
     "execution_count": 10,
     "metadata": {},
     "output_type": "execute_result"
    }
   ],
   "source": [
    "df"
   ]
  },
  {
   "cell_type": "markdown",
   "id": "3b871f5e-1690-4dea-a606-04c06c6a2068",
   "metadata": {},
   "source": [
    "### **Remove NULL values**"
   ]
  },
  {
   "cell_type": "code",
   "execution_count": 12,
   "id": "39a27831-a164-4f1b-b920-0d612e5b627c",
   "metadata": {},
   "outputs": [
    {
     "data": {
      "text/html": [
       "<div>\n",
       "<style scoped>\n",
       "    .dataframe tbody tr th:only-of-type {\n",
       "        vertical-align: middle;\n",
       "    }\n",
       "\n",
       "    .dataframe tbody tr th {\n",
       "        vertical-align: top;\n",
       "    }\n",
       "\n",
       "    .dataframe thead th {\n",
       "        text-align: right;\n",
       "    }\n",
       "</style>\n",
       "<table border=\"1\" class=\"dataframe\">\n",
       "  <thead>\n",
       "    <tr style=\"text-align: right;\">\n",
       "      <th></th>\n",
       "      <th>Date</th>\n",
       "      <th>Category</th>\n",
       "      <th>Likes</th>\n",
       "    </tr>\n",
       "  </thead>\n",
       "  <tbody>\n",
       "    <tr>\n",
       "      <th>0</th>\n",
       "      <td>2023-01-01</td>\n",
       "      <td>Health</td>\n",
       "      <td>37</td>\n",
       "    </tr>\n",
       "    <tr>\n",
       "      <th>1</th>\n",
       "      <td>2023-01-02</td>\n",
       "      <td>Health</td>\n",
       "      <td>88</td>\n",
       "    </tr>\n",
       "    <tr>\n",
       "      <th>2</th>\n",
       "      <td>2023-01-03</td>\n",
       "      <td>Fitness</td>\n",
       "      <td>377</td>\n",
       "    </tr>\n",
       "    <tr>\n",
       "      <th>3</th>\n",
       "      <td>2023-01-04</td>\n",
       "      <td>Health</td>\n",
       "      <td>402</td>\n",
       "    </tr>\n",
       "    <tr>\n",
       "      <th>4</th>\n",
       "      <td>2023-01-05</td>\n",
       "      <td>Fashion</td>\n",
       "      <td>706</td>\n",
       "    </tr>\n",
       "    <tr>\n",
       "      <th>...</th>\n",
       "      <td>...</td>\n",
       "      <td>...</td>\n",
       "      <td>...</td>\n",
       "    </tr>\n",
       "    <tr>\n",
       "      <th>495</th>\n",
       "      <td>2024-05-10</td>\n",
       "      <td>Food</td>\n",
       "      <td>201</td>\n",
       "    </tr>\n",
       "    <tr>\n",
       "      <th>496</th>\n",
       "      <td>2024-05-11</td>\n",
       "      <td>Fitness</td>\n",
       "      <td>488</td>\n",
       "    </tr>\n",
       "    <tr>\n",
       "      <th>497</th>\n",
       "      <td>2024-05-12</td>\n",
       "      <td>Fashion</td>\n",
       "      <td>766</td>\n",
       "    </tr>\n",
       "    <tr>\n",
       "      <th>498</th>\n",
       "      <td>2024-05-13</td>\n",
       "      <td>Travel</td>\n",
       "      <td>117</td>\n",
       "    </tr>\n",
       "    <tr>\n",
       "      <th>499</th>\n",
       "      <td>2024-05-14</td>\n",
       "      <td>Culture</td>\n",
       "      <td>200</td>\n",
       "    </tr>\n",
       "  </tbody>\n",
       "</table>\n",
       "<p>500 rows × 3 columns</p>\n",
       "</div>"
      ],
      "text/plain": [
       "          Date Category  Likes\n",
       "0   2023-01-01   Health     37\n",
       "1   2023-01-02   Health     88\n",
       "2   2023-01-03  Fitness    377\n",
       "3   2023-01-04   Health    402\n",
       "4   2023-01-05  Fashion    706\n",
       "..         ...      ...    ...\n",
       "495 2024-05-10     Food    201\n",
       "496 2024-05-11  Fitness    488\n",
       "497 2024-05-12  Fashion    766\n",
       "498 2024-05-13   Travel    117\n",
       "499 2024-05-14  Culture    200\n",
       "\n",
       "[500 rows x 3 columns]"
      ]
     },
     "execution_count": 12,
     "metadata": {},
     "output_type": "execute_result"
    }
   ],
   "source": [
    "df.dropna(inplace = True)\n",
    "df"
   ]
  },
  {
   "cell_type": "markdown",
   "id": "5c9abf7e-2ef1-44fd-b036-481c01801684",
   "metadata": {},
   "source": [
    "### **Remove duplicated**"
   ]
  },
  {
   "cell_type": "markdown",
   "id": "7a1cc818-9cdf-485e-97ce-54d3d1b459b0",
   "metadata": {},
   "source": [
    "#### First let's see if we have any duplicated values:"
   ]
  },
  {
   "cell_type": "code",
   "execution_count": 16,
   "id": "90072bc6-9168-47fc-b7dd-080014c062d7",
   "metadata": {},
   "outputs": [
    {
     "data": {
      "text/plain": [
       "0      False\n",
       "1      False\n",
       "2      False\n",
       "3      False\n",
       "4      False\n",
       "       ...  \n",
       "495    False\n",
       "496    False\n",
       "497    False\n",
       "498    False\n",
       "499    False\n",
       "Length: 500, dtype: bool"
      ]
     },
     "execution_count": 16,
     "metadata": {},
     "output_type": "execute_result"
    }
   ],
   "source": [
    "df.duplicated()"
   ]
  },
  {
   "cell_type": "code",
   "execution_count": 28,
   "id": "45c85f6c-fc7e-401d-a765-3ac2c84e0604",
   "metadata": {},
   "outputs": [],
   "source": [
    "#Remove any duplicated values:\n",
    "df.drop_duplicates(inplace = True)"
   ]
  },
  {
   "cell_type": "markdown",
   "id": "c9ec99ad-0d18-4826-9d7f-1832a460643e",
   "metadata": {},
   "source": [
    "### **Convert the dataframe field to a datetime format**"
   ]
  },
  {
   "cell_type": "code",
   "execution_count": 33,
   "id": "a100a616-e5e1-4374-984d-60e142519d5e",
   "metadata": {},
   "outputs": [
    {
     "data": {
      "text/plain": [
       "dtype('<M8[ns]')"
      ]
     },
     "execution_count": 33,
     "metadata": {},
     "output_type": "execute_result"
    }
   ],
   "source": [
    "df['Date'] = pd.to_datetime(df['Date'])\n",
    "df['Date'].dtypes #print column type"
   ]
  },
  {
   "cell_type": "markdown",
   "id": "879ad3b6-e288-412a-a2c6-dfcff478ec66",
   "metadata": {},
   "source": [
    "### **Convert Likes to int**"
   ]
  },
  {
   "cell_type": "code",
   "execution_count": 34,
   "id": "a6f876a4-807e-40fe-a921-27abc536b1e9",
   "metadata": {},
   "outputs": [
    {
     "data": {
      "text/plain": [
       "dtype('int32')"
      ]
     },
     "execution_count": 34,
     "metadata": {},
     "output_type": "execute_result"
    }
   ],
   "source": [
    "df['Likes'] = df['Likes'].astype(int)\n",
    "df['Likes'].dtypes #print column type"
   ]
  },
  {
   "cell_type": "markdown",
   "id": "bb09bcb4-3140-4e46-a2a2-cfc6464752a9",
   "metadata": {},
   "source": [
    "## **Visualize and Analyze the data**"
   ]
  },
  {
   "cell_type": "markdown",
   "id": "2ba9c5e0-46c6-4485-822f-3658bc8531c9",
   "metadata": {},
   "source": [
    "### **Visualize Data**"
   ]
  },
  {
   "cell_type": "code",
   "execution_count": 44,
   "id": "5cc19d4d-2763-42d8-920f-162f296cc419",
   "metadata": {},
   "outputs": [
    {
     "data": {
      "text/plain": [
       "<Axes: xlabel='Likes', ylabel='Count'>"
      ]
     },
     "execution_count": 44,
     "metadata": {},
     "output_type": "execute_result"
    },
    {
     "data": {
      "image/png": "[encoded data removed]",
      "text/plain": [
       "<Figure size 640x480 with 1 Axes>"
      ]
     },
     "metadata": {},
     "output_type": "display_data"
    }
   ],
   "source": [
    "seaborn.histplot(data = df, x='Likes', binwidth=40, kde=True) #args from documentation |Abdessamad Touzani"
   ]
  },
  {
   "cell_type": "markdown",
   "id": "0785a591-d73c-42dd-84f1-952246a76dd2",
   "metadata": {},
   "source": [
    "### **Create a boxplot**"
   ]
  },
  {
   "cell_type": "code",
   "execution_count": 49,
   "id": "a79fc8b2-2d24-4e6f-9fbf-18d8d4a20b59",
   "metadata": {},
   "outputs": [
    {
     "data": {
      "text/plain": [
       "<Axes: xlabel='Category', ylabel='Likes'>"
      ]
     },
     "execution_count": 49,
     "metadata": {},
     "output_type": "execute_result"
    },
    {
     "data": {
      "image/png": "[encoded data removed]",
      "text/plain": [
       "<Figure size 640x480 with 1 Axes>"
      ]
     },
     "metadata": {},
     "output_type": "display_data"
    }
   ],
   "source": [
    "seaborn.boxplot(data=df, x='Category', y='Likes', hue=\"Category\") #|Abdessamad Touzani"
   ]
  },
  {
   "cell_type": "markdown",
   "id": "4cc136d5-657c-4b66-81a3-1d2d6460aeb1",
   "metadata": {},
   "source": [
    "### **Statistics on the data**"
   ]
  },
  {
   "cell_type": "markdown",
   "id": "edabdc23-8154-469b-aa37-236a6afb2116",
   "metadata": {},
   "source": [
    "### **Likes's mean**"
   ]
  },
  {
   "cell_type": "code",
   "execution_count": 52,
   "id": "2dc602ce-9afa-479e-b9c7-ea245e959e2e",
   "metadata": {},
   "outputs": [
    {
     "name": "stdout",
     "output_type": "stream",
     "text": [
      "Likes's mean is: 520.69\n"
     ]
    }
   ],
   "source": [
    "m = df['Likes'].mean()\n",
    "print(\"Likes's mean is: \"+str(m))"
   ]
  },
  {
   "cell_type": "markdown",
   "id": "64462946-1a23-4df9-b0bb-fc3f22d065aa",
   "metadata": {},
   "source": [
    "### **Mean of each category**"
   ]
  },
  {
   "cell_type": "code",
   "execution_count": 56,
   "id": "a14c4db7-cb04-4dca-ad07-2ec44196c70a",
   "metadata": {},
   "outputs": [
    {
     "data": {
      "text/plain": [
       "Category\n",
       "Culture    500.171875\n",
       "Fashion    516.197368\n",
       "Fitness    457.842105\n",
       "Food       537.382353\n",
       "Health     554.328767\n",
       "Music      547.432432\n",
       "Travel     533.173913\n",
       "Name: Likes, dtype: float64"
      ]
     },
     "execution_count": 56,
     "metadata": {},
     "output_type": "execute_result"
    }
   ],
   "source": [
    "m_cat = df.groupby('Category')['Likes'].mean()\n",
    "m_cat"
   ]
  },
  {
   "cell_type": "markdown",
   "id": "d865d8d1-a6af-4141-a2ac-bfbb9e2a6370",
   "metadata": {},
   "source": [
    "## **Describe Conclusions**"
   ]
  },
  {
   "cell_type": "markdown",
   "id": "520356de-c2ef-444a-bad6-738bfc482201",
   "metadata": {},
   "source": [
    "This project project demonstrates my ability to import libraries, generate and analyze random data, clean the data, and visualize/analyze it using Seaborn and Matplotlib.\n",
    "### **The Process:**\n",
    "1. **Generate Random Data:**\n",
    "   Before diving into analysis, I imported the libraries, and generated random tweet data to simulate a social media experiment. This involved using pandas date range for pseudo-random dates, random.choice to select categories, and numpy's random.randint to generate random likes.\n",
    "2. **Exploring Data:**\n",
    "   The second step was exploring the data trough pandas's function as: head() and info(), in addition to describing the DataFrame.\n",
    "3. **Cleanig Data:**\n",
    "   I started by removing NULL values then the duplicates, and the clean nature of generated data, actually have simplified this process. After that, I simply converted the dataframe  date's field to a datetime format and 'Likes' to type Integer.\n",
    "4. **Visualizing and Analyzing the Data**\n",
    "    Here I explored the vibrant landscape of social media engagement through insightful plots and statistics.\n",
    "   * *Visualize Data:*\n",
    "         By using the seaborn's method 'histplot', The histogram plot of 'Likes' revealed an interesting distribution, providing insights into the popularity of   various social media posts.\n",
    "   * *Create a boxplot:*\n",
    "         Using Seaborn's boxplot, I investigated the distribution of 'Likes' across different categories. This allowed for a deeper understanding of engagement levels within each category.\n",
    "5. **Statistics on the Data:**\n",
    "   Last step in this project, was revealing some statistics about the data. Calculating the mean of 'Likes' across all data points and for each category provided a quantitative understanding of the overall engagement and category-specific trends, and the use of the groupby method highlighted distinct patterns in engagement for each category.\n",
    "   to continue\n",
    "   \n",
    "    **What sets my portfolio project apart is the comprehensive approach to data analysis, incorporating both visualizations and statistical summaries. The utilization of Seaborn for visualization adds a layer of sophistication to the project, making it visually appealing and easy to comprehend.**\n",
    "    **In terms of improvements, expanding the project to include more sophisticated statistical analyses, such as correlation studies or predictive modeling, could enhance its depth.**\n"
   ]
  },
  {
   "cell_type": "markdown",
   "id": "8a6bb4f1-877a-408a-9b11-700aa5912994",
   "metadata": {},
   "source": [
    "# By: **Abdessamad Touzani** \n",
    "### Copyright (c) 2023"
   ]
  }
 ],
 "metadata": {
  "kernelspec": {
   "display_name": "Python 3 (ipykernel)",
   "language": "python",
   "name": "python3"
  },
  "language_info": {
   "codemirror_mode": {
    "name": "ipython",
    "version": 3
   },
   "file_extension": ".py",
   "mimetype": "text/x-python",
   "name": "python",
   "nbconvert_exporter": "python",
   "pygments_lexer": "ipython3",
   "version": "3.11.5"
  }
 },
 "nbformat": 4,
 "nbformat_minor": 5
}
